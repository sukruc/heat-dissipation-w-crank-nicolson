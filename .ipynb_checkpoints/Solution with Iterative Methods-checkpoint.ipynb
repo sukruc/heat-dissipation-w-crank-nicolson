{
 "cells": [
  {
   "cell_type": "code",
   "execution_count": 279,
   "metadata": {},
   "outputs": [],
   "source": [
    "import numpy as np\n",
    "import matplotlib.pyplot as plt\n",
    "import pickle\n",
    "import sys\n",
    "\n",
    "from heat_utils import initialize, calculate, propagate\n",
    "del sys.modules['heat_utils']\n",
    "from heat_utils import initialize, calculate, propagate"
   ]
  },
  {
   "cell_type": "code",
   "execution_count": 280,
   "metadata": {},
   "outputs": [
    {
     "name": "stdout",
     "output_type": "stream",
     "text": [
      "Heat dissipation matrix initialized.\n",
      "\n",
      "Wall time:  0:00:02.128781\n"
     ]
    }
   ],
   "source": [
    "MAT_FILENAME = 'T_step_01.pk'\n",
    "\n",
    "X = 1\n",
    "Y = .2\n",
    "k = 1.3\n",
    "ro = 2400\n",
    "cp = 700\n",
    "h = 1000\n",
    "T_init = 20\n",
    "step_size = .02\n",
    "time_step = .01\n",
    "t_end = 3600\n",
    "\n",
    "A1, A2, G, T, nx, ny, tx, ty, dx= initialize(X, Y, T_init, k, h, ro, cp, step_size, \n",
    "                       time_step, t_end)"
   ]
  },
  {
   "cell_type": "code",
   "execution_count": 281,
   "metadata": {},
   "outputs": [
    {
     "name": "stdout",
     "output_type": "stream",
     "text": [
      "Compiling Crank-Nicolson Schema...\n",
      "Done.\n"
     ]
    }
   ],
   "source": [
    "A1, A2 = calculate(A1, A2, \n",
    "                   int(X / step_size), \n",
    "                   int(Y / step_size), \n",
    "                   tx, ty, h, dx, k)"
   ]
  },
  {
   "cell_type": "code",
   "execution_count": 283,
   "metadata": {},
   "outputs": [
    {
     "name": "stdout",
     "output_type": "stream",
     "text": [
      "Heat flow started.\n",
      "Simulation time elapsed: 0.01 seconds\n",
      "Simulation time elapsed: 1.00 seconds\n",
      "Simulation time elapsed: 2.00 seconds\n",
      "Simulation time elapsed: 3.01 seconds\n",
      "Simulation time elapsed: 4.01 seconds\n",
      "Simulation time elapsed: 5.01 seconds\n",
      "Simulation time elapsed: 6.01 seconds\n",
      "Simulation time elapsed: 7.01 seconds\n",
      "Simulation time elapsed: 8.01 seconds\n",
      "Simulation time elapsed: 9.01 seconds\n",
      "Simulation time elapsed: 10.01 seconds\n",
      "Simulation time elapsed: 11.01 seconds\n",
      "Simulation time elapsed: 12.01 seconds\n",
      "Calculation interrupted.\n",
      "\n",
      "Last calculated time step: 12.63\n"
     ]
    }
   ],
   "source": [
    "T = propagate(A1, A2, T, G, time_step)"
   ]
  },
  {
   "cell_type": "code",
   "execution_count": 248,
   "metadata": {},
   "outputs": [],
   "source": [
    "metadata{'data':T, 'dx':step_size, 'dt':time_step, 'X':X, 'Y':Y }\n",
    "pickle.dump(metadata,open(MAT_FILENAME,'wb'))"
   ]
  }
 ],
 "metadata": {
  "kernelspec": {
   "display_name": "Python 3",
   "language": "python",
   "name": "python3"
  },
  "language_info": {
   "codemirror_mode": {
    "name": "ipython",
    "version": 3
   },
   "file_extension": ".py",
   "mimetype": "text/x-python",
   "name": "python",
   "nbconvert_exporter": "python",
   "pygments_lexer": "ipython3",
   "version": "3.6.6"
  }
 },
 "nbformat": 4,
 "nbformat_minor": 2
}
