{
 "cells": [
  {
   "cell_type": "markdown",
   "metadata": {},
   "source": [
    "# Calculating Heat Dissipation using Crank-Nicolson Finite Difference Scheme\n",
    "## Iterative Solution - CG"
   ]
  },
  {
   "cell_type": "code",
   "execution_count": 353,
   "metadata": {},
   "outputs": [],
   "source": [
    "import numpy as np\n",
    "import matplotlib.pyplot as plt\n",
    "import pickle\n",
    "import sys\n",
    "\n",
    "from heatutils import initialize, calculate, propagate"
   ]
  },
  {
   "cell_type": "code",
   "execution_count": 354,
   "metadata": {},
   "outputs": [
    {
     "name": "stdout",
     "output_type": "stream",
     "text": [
      "Sıcaklık Dağılım Matrisi Oluşturuldu.\n",
      "\n",
      "Oluşturma Zamanı:  0:00:00.023963\n"
     ]
    }
   ],
   "source": [
    "MAT_FILENAME = 'test.pk'\n",
    "\n",
    "X = 1          # Uzunluk (m)\n",
    "Y = .2         # Yukseklik (m)\n",
    "k = 1.3        # W/m K\n",
    "ro = 2400      # kg / m^3\n",
    "cp = 700       # kJ / kg K\n",
    "h = 1000       # W/m^2\n",
    "T_init = 293   # K\n",
    "method = 'cg'  # Optimizasyon metodu {'OLS', 'cg'}\n",
    "Ts = 1500      # K\n",
    "step_size = .02 # delta_x\n",
    "time_step = 1   # delta_t\n",
    "t_end = 3600    # T_son, s\n",
    "\n",
    "A1, A2, G, T, nx, ny, tx, ty, dx= initialize(X, Y, \n",
    "                                             T_init, \n",
    "                                             k, \n",
    "                                             h, \n",
    "                                             ro, \n",
    "                                             cp, \n",
    "                                             step_size, \n",
    "                                             time_step,\n",
    "                                             t_end,\n",
    "                                             Ts)"
   ]
  },
  {
   "cell_type": "code",
   "execution_count": 355,
   "metadata": {},
   "outputs": [
    {
     "name": "stdout",
     "output_type": "stream",
     "text": [
      "Crank-Nicolson Şeması Oluşturuluyor...\n",
      "Tamamlandı.\n"
     ]
    }
   ],
   "source": [
    "A1, A2 = calculate(A1, A2, \n",
    "                   int(X / step_size), \n",
    "                   int(Y / step_size), \n",
    "                   tx, ty, h, dx, k)"
   ]
  },
  {
   "cell_type": "code",
   "execution_count": 356,
   "metadata": {},
   "outputs": [
    {
     "name": "stdout",
     "output_type": "stream",
     "text": [
      "Gaz Akışı Başladı.\n",
      "Simülasyonda geçen zaman: 600.00 saniye\n",
      "Simülasyonda geçen zaman: 1200.00 saniye\n",
      "Simülasyonda geçen zaman: 1800.00 saniye\n",
      "Simülasyonda geçen zaman: 2400.00 saniye\n",
      "Simülasyonda geçen zaman: 3000.00 saniye\n"
     ]
    }
   ],
   "source": [
    "T = propagate(A1, A2, T, G, time_step)"
   ]
  },
  {
   "cell_type": "code",
   "execution_count": 357,
   "metadata": {},
   "outputs": [],
   "source": [
    "metadata={'data':T, \n",
    "          'dx':step_size, \n",
    "          'dt':time_step, \n",
    "          'X':X, \n",
    "          'Y':Y }\n",
    "\n",
    "pickle.dump(metadata,open(MAT_FILENAME,'wb'))"
   ]
  },
  {
   "cell_type": "code",
   "execution_count": null,
   "metadata": {},
   "outputs": [],
   "source": []
  }
 ],
 "metadata": {
  "kernelspec": {
   "display_name": "Python 3",
   "language": "python",
   "name": "python3"
  },
  "language_info": {
   "codemirror_mode": {
    "name": "ipython",
    "version": 3
   },
   "file_extension": ".py",
   "mimetype": "text/x-python",
   "name": "python",
   "nbconvert_exporter": "python",
   "pygments_lexer": "ipython3",
   "version": "3.6.6"
  }
 },
 "nbformat": 4,
 "nbformat_minor": 2
}
