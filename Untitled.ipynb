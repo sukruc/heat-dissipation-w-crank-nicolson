{
 "cells": [
  {
   "cell_type": "code",
   "execution_count": 47,
   "metadata": {},
   "outputs": [],
   "source": [
    "import pickle\n",
    "import numpy as np\n",
    "import matplotlib.pyplot as plt"
   ]
  },
  {
   "cell_type": "code",
   "execution_count": 68,
   "metadata": {},
   "outputs": [],
   "source": [
    "T = pickle.load(open('T','rb'))"
   ]
  },
  {
   "cell_type": "code",
   "execution_count": 69,
   "metadata": {},
   "outputs": [
    {
     "data": {
      "text/plain": [
       "(20, 1, 3600001)"
      ]
     },
     "execution_count": 69,
     "metadata": {},
     "output_type": "execute_result"
    }
   ],
   "source": [
    "T.shape"
   ]
  },
  {
   "cell_type": "code",
   "execution_count": 70,
   "metadata": {},
   "outputs": [],
   "source": [
    "nx, ny = 100, 20\n",
    "x = np.linspace(0, nx, 41)\n",
    "y = np.linspace(0, ny, 11)\n",
    "vx, vy = np.meshgrid(x,y)"
   ]
  },
  {
   "cell_type": "code",
   "execution_count": 72,
   "metadata": {},
   "outputs": [
    {
     "data": {
      "text/plain": [
       "(20, 1)"
      ]
     },
     "execution_count": 72,
     "metadata": {},
     "output_type": "execute_result"
    }
   ],
   "source": [
    "T[:,:,300].shape"
   ]
  },
  {
   "cell_type": "code",
   "execution_count": 71,
   "metadata": {},
   "outputs": [
    {
     "ename": "ValueError",
     "evalue": "cannot reshape array of size 20 into shape (11,41)",
     "output_type": "error",
     "traceback": [
      "\u001b[1;31m---------------------------------------------------------------------------\u001b[0m",
      "\u001b[1;31mValueError\u001b[0m                                Traceback (most recent call last)",
      "\u001b[1;32m<ipython-input-71-c15b5ee308d9>\u001b[0m in \u001b[0;36m<module>\u001b[1;34m\u001b[0m\n\u001b[0;32m      1\u001b[0m \u001b[0mdk\u001b[0m \u001b[1;33m=\u001b[0m \u001b[1;36m5\u001b[0m \u001b[1;33m/\u001b[0m \u001b[1;36m60\u001b[0m \u001b[1;33m/\u001b[0m \u001b[0mdt\u001b[0m\u001b[1;33m\u001b[0m\u001b[0m\n\u001b[0;32m      2\u001b[0m \u001b[0mplt\u001b[0m\u001b[1;33m.\u001b[0m\u001b[0mfigure\u001b[0m\u001b[1;33m(\u001b[0m\u001b[0mfigsize\u001b[0m\u001b[1;33m=\u001b[0m\u001b[1;33m(\u001b[0m\u001b[1;36m12\u001b[0m\u001b[1;33m,\u001b[0m\u001b[1;36m8\u001b[0m\u001b[1;33m)\u001b[0m\u001b[1;33m)\u001b[0m\u001b[1;33m\u001b[0m\u001b[0m\n\u001b[1;32m----> 3\u001b[1;33m \u001b[0mplt\u001b[0m\u001b[1;33m.\u001b[0m\u001b[0mcontourf\u001b[0m\u001b[1;33m(\u001b[0m\u001b[0mvx\u001b[0m\u001b[1;33m,\u001b[0m \u001b[0mvy\u001b[0m\u001b[1;33m,\u001b[0m \u001b[0mnp\u001b[0m\u001b[1;33m.\u001b[0m\u001b[0mflipud\u001b[0m\u001b[1;33m(\u001b[0m\u001b[0mT\u001b[0m\u001b[1;33m[\u001b[0m\u001b[1;33m:\u001b[0m\u001b[1;33m,\u001b[0m\u001b[1;33m:\u001b[0m\u001b[1;33m,\u001b[0m\u001b[1;36m300\u001b[0m\u001b[1;33m]\u001b[0m\u001b[1;33m.\u001b[0m\u001b[0mreshape\u001b[0m\u001b[1;33m(\u001b[0m\u001b[1;36m11\u001b[0m\u001b[1;33m,\u001b[0m\u001b[1;36m41\u001b[0m\u001b[1;33m)\u001b[0m\u001b[1;33m)\u001b[0m\u001b[1;33m,\u001b[0m \u001b[0mcmap\u001b[0m\u001b[1;33m=\u001b[0m\u001b[1;34m'jet'\u001b[0m\u001b[1;33m)\u001b[0m\u001b[1;33m\u001b[0m\u001b[0m\n\u001b[0m\u001b[0;32m      4\u001b[0m \u001b[0mplt\u001b[0m\u001b[1;33m.\u001b[0m\u001b[0mcolorbar\u001b[0m\u001b[1;33m(\u001b[0m\u001b[1;33m)\u001b[0m\u001b[1;33m\u001b[0m\u001b[0m\n\u001b[0;32m      5\u001b[0m \u001b[0mplt\u001b[0m\u001b[1;33m.\u001b[0m\u001b[0mtitle\u001b[0m\u001b[1;33m(\u001b[0m\u001b[1;34m'5 dk Sonunda Sıcaklık Dağılımı'\u001b[0m\u001b[1;33m)\u001b[0m\u001b[1;33m\u001b[0m\u001b[0m\n",
      "\u001b[1;31mValueError\u001b[0m: cannot reshape array of size 20 into shape (11,41)"
     ]
    },
    {
     "data": {
      "text/plain": [
       "<Figure size 864x576 with 0 Axes>"
      ]
     },
     "metadata": {},
     "output_type": "display_data"
    }
   ],
   "source": [
    "dk = 5 / 60 / dt\n",
    "plt.figure(figsize=(12,8))\n",
    "plt.contourf(vx, vy, np.flipud(T[:,:,300].reshape(11,41)), cmap='jet')\n",
    "plt.colorbar()\n",
    "plt.title('5 dk Sonunda Sıcaklık Dağılımı')\n",
    "plt.xlabel('x [cm]')\n",
    "plt.ylabel('y [cm]')"
   ]
  },
  {
   "cell_type": "code",
   "execution_count": 73,
   "metadata": {},
   "outputs": [
    {
     "ename": "ValueError",
     "evalue": "cannot reshape array of size 20 into shape (11,41)",
     "output_type": "error",
     "traceback": [
      "\u001b[1;31m---------------------------------------------------------------------------\u001b[0m",
      "\u001b[1;31mValueError\u001b[0m                                Traceback (most recent call last)",
      "\u001b[1;32m<ipython-input-73-60d0eec6506e>\u001b[0m in \u001b[0;36m<module>\u001b[1;34m\u001b[0m\n\u001b[0;32m      1\u001b[0m \u001b[0mplt\u001b[0m\u001b[1;33m.\u001b[0m\u001b[0mfigure\u001b[0m\u001b[1;33m(\u001b[0m\u001b[0mfigsize\u001b[0m\u001b[1;33m=\u001b[0m\u001b[1;33m(\u001b[0m\u001b[1;36m12\u001b[0m\u001b[1;33m,\u001b[0m\u001b[1;36m8\u001b[0m\u001b[1;33m)\u001b[0m\u001b[1;33m)\u001b[0m\u001b[1;33m\u001b[0m\u001b[0m\n\u001b[1;32m----> 2\u001b[1;33m \u001b[0mplt\u001b[0m\u001b[1;33m.\u001b[0m\u001b[0mcontourf\u001b[0m\u001b[1;33m(\u001b[0m\u001b[0mvx\u001b[0m\u001b[1;33m,\u001b[0m \u001b[0mvy\u001b[0m\u001b[1;33m,\u001b[0m \u001b[0mnp\u001b[0m\u001b[1;33m.\u001b[0m\u001b[0mflipud\u001b[0m\u001b[1;33m(\u001b[0m\u001b[0mT\u001b[0m\u001b[1;33m[\u001b[0m\u001b[1;33m:\u001b[0m\u001b[1;33m,\u001b[0m\u001b[1;33m:\u001b[0m\u001b[1;33m,\u001b[0m\u001b[1;36m1800\u001b[0m\u001b[1;33m]\u001b[0m\u001b[1;33m.\u001b[0m\u001b[0mreshape\u001b[0m\u001b[1;33m(\u001b[0m\u001b[1;36m11\u001b[0m\u001b[1;33m,\u001b[0m\u001b[1;36m41\u001b[0m\u001b[1;33m)\u001b[0m\u001b[1;33m)\u001b[0m\u001b[1;33m,\u001b[0m \u001b[0mcmap\u001b[0m\u001b[1;33m=\u001b[0m\u001b[1;34m'jet'\u001b[0m\u001b[1;33m)\u001b[0m\u001b[1;33m\u001b[0m\u001b[0m\n\u001b[0m\u001b[0;32m      3\u001b[0m \u001b[0mplt\u001b[0m\u001b[1;33m.\u001b[0m\u001b[0mcolorbar\u001b[0m\u001b[1;33m(\u001b[0m\u001b[1;33m)\u001b[0m\u001b[1;33m\u001b[0m\u001b[0m\n\u001b[0;32m      4\u001b[0m \u001b[0mplt\u001b[0m\u001b[1;33m.\u001b[0m\u001b[0mtitle\u001b[0m\u001b[1;33m(\u001b[0m\u001b[1;34m'30 dk Sonunda Sıcaklık Dağılımı'\u001b[0m\u001b[1;33m)\u001b[0m\u001b[1;33m\u001b[0m\u001b[0m\n\u001b[0;32m      5\u001b[0m \u001b[0mplt\u001b[0m\u001b[1;33m.\u001b[0m\u001b[0mxlabel\u001b[0m\u001b[1;33m(\u001b[0m\u001b[1;34m'x [cm]'\u001b[0m\u001b[1;33m)\u001b[0m\u001b[1;33m\u001b[0m\u001b[0m\n",
      "\u001b[1;31mValueError\u001b[0m: cannot reshape array of size 20 into shape (11,41)"
     ]
    },
    {
     "data": {
      "text/plain": [
       "<Figure size 864x576 with 0 Axes>"
      ]
     },
     "metadata": {},
     "output_type": "display_data"
    }
   ],
   "source": [
    "plt.figure(figsize=(12,8))\n",
    "plt.contourf(vx, vy, np.flipud(T[:,:,1800].reshape(11,41)), cmap='jet')\n",
    "plt.colorbar()\n",
    "plt.title('30 dk Sonunda Sıcaklık Dağılımı')\n",
    "plt.xlabel('x [cm]')\n",
    "plt.ylabel('y [cm]')"
   ]
  },
  {
   "cell_type": "code",
   "execution_count": 67,
   "metadata": {},
   "outputs": [
    {
     "data": {
      "text/plain": [
       "Text(0, 0.5, 'y [cm]')"
      ]
     },
     "execution_count": 67,
     "metadata": {},
     "output_type": "execute_result"
    },
    {
     "data": {
      "image/png": "[encoded data removed]",
      "text/plain": [
       "<Figure size 864x576 with 2 Axes>"
      ]
     },
     "metadata": {
      "needs_background": "light"
     },
     "output_type": "display_data"
    }
   ],
   "source": [
    "plt.figure(figsize=(12,8))\n",
    "plt.contourf(vx, vy, np.flipud(T[:,:,3600].reshape(11,41)), cmap='jet')\n",
    "plt.colorbar()\n",
    "plt.title('60 dk Sonunda Sıcaklık Dağılımı')\n",
    "plt.xlabel('x [cm]')\n",
    "plt.ylabel('y [cm]')"
   ]
  },
  {
   "cell_type": "code",
   "execution_count": 54,
   "metadata": {},
   "outputs": [
    {
     "data": {
      "text/plain": [
       "array([[ 9834.83333985],\n",
       "       [12954.31065283],\n",
       "       [13345.93338539],\n",
       "       [13336.06947266],\n",
       "       [13293.77938675],\n",
       "       [13266.66589132],\n",
       "       [13253.01172727],\n",
       "       [13246.87895155],\n",
       "       [13244.34281707],\n",
       "       [13243.36679184],\n",
       "       [13243.01555279],\n",
       "       [13242.89700089],\n",
       "       [13242.85937716],\n",
       "       [13242.84812388],\n",
       "       [13242.84494445],\n",
       "       [13242.84409403],\n",
       "       [13242.84387822],\n",
       "       [13242.84382616],\n",
       "       [13242.84381419],\n",
       "       [13242.84381157],\n",
       "       [13242.84381102],\n",
       "       [13242.84381091],\n",
       "       [13242.84381088],\n",
       "       [13242.84381088],\n",
       "       [13242.84381088],\n",
       "       [13242.84381088],\n",
       "       [13242.84381088],\n",
       "       [13242.84381088],\n",
       "       [13242.84381088],\n",
       "       [13242.84381088],\n",
       "       [13242.84381088],\n",
       "       [13242.84381088],\n",
       "       [13242.84381088],\n",
       "       [13242.84381088],\n",
       "       [13242.84381088],\n",
       "       [13242.84381088],\n",
       "       [13242.84381088],\n",
       "       [13242.84381088],\n",
       "       [13242.84381088],\n",
       "       [13242.84381088],\n",
       "       [13242.84381088],\n",
       "       [14591.00003239],\n",
       "       [11145.03573976],\n",
       "       [10354.79957373],\n",
       "       [10088.29797167],\n",
       "       [ 9973.13153219],\n",
       "       [ 9919.78777901],\n",
       "       [ 9895.52839594],\n",
       "       [ 9885.0310952 ],\n",
       "       [ 9880.75432776],\n",
       "       [ 9879.1189339 ],\n",
       "       [ 9878.53215125],\n",
       "       [ 9878.33439825],\n",
       "       [ 9878.27169649],\n",
       "       [ 9878.25295501],\n",
       "       [ 9878.24766311],\n",
       "       [ 9878.24624851],\n",
       "       [ 9878.24588976],\n",
       "       [ 9878.24580327],\n",
       "       [ 9878.24578341],\n",
       "       [ 9878.24577906],\n",
       "       [ 9878.24577815],\n",
       "       [ 9878.24577796],\n",
       "       [ 9878.24577793],\n",
       "       [ 9878.24577792],\n",
       "       [ 9878.24577792],\n",
       "       [ 9878.24577792],\n",
       "       [ 9878.24577792],\n",
       "       [ 9878.24577792],\n",
       "       [ 9878.24577792],\n",
       "       [ 9878.24577792],\n",
       "       [ 9878.24577792],\n",
       "       [ 9878.24577792],\n",
       "       [ 9878.24577792],\n",
       "       [ 9878.24577792],\n",
       "       [ 9878.24577792],\n",
       "       [ 9878.24577792],\n",
       "       [ 9878.24577792],\n",
       "       [ 9878.24577792],\n",
       "       [ 9878.24577792],\n",
       "       [ 9878.24577792],\n",
       "       [ 9878.24577792],\n",
       "       [ 9233.69078418],\n",
       "       [ 8161.56026612],\n",
       "       [ 7547.21988019],\n",
       "       [ 7253.63564322],\n",
       "       [ 7114.3071107 ],\n",
       "       [ 7048.80610008],\n",
       "       [ 7019.02317452],\n",
       "       [ 7006.14532539],\n",
       "       [ 7000.89636791],\n",
       "       [ 6998.88685394],\n",
       "       [ 6998.16480766],\n",
       "       [ 6997.92112778],\n",
       "       [ 6997.8437666 ],\n",
       "       [ 6997.82061851],\n",
       "       [ 6997.81407648],\n",
       "       [ 6997.81232643],\n",
       "       [ 6997.81188235],\n",
       "       [ 6997.81177524],\n",
       "       [ 6997.81175063],\n",
       "       [ 6997.81174524],\n",
       "       [ 6997.81174411],\n",
       "       [ 6997.81174388],\n",
       "       [ 6997.81174384],\n",
       "       [ 6997.81174383],\n",
       "       [ 6997.81174383],\n",
       "       [ 6997.81174383],\n",
       "       [ 6997.81174383],\n",
       "       [ 6997.81174383],\n",
       "       [ 6997.81174383],\n",
       "       [ 6997.81174383],\n",
       "       [ 6997.81174383],\n",
       "       [ 6997.81174383],\n",
       "       [ 6997.81174383],\n",
       "       [ 6997.81174383],\n",
       "       [ 6997.81174383],\n",
       "       [ 6997.81174383],\n",
       "       [ 6997.81174383],\n",
       "       [ 6997.81174383],\n",
       "       [ 6997.81174383],\n",
       "       [ 6997.81174383],\n",
       "       [ 6997.81174383],\n",
       "       [ 5887.58573585],\n",
       "       [ 5520.78744739],\n",
       "       [ 5161.58634678],\n",
       "       [ 4936.43606086],\n",
       "       [ 4813.64094689],\n",
       "       [ 4751.72764813],\n",
       "       [ 4722.52667911],\n",
       "       [ 4709.63556947],\n",
       "       [ 4704.31289591],\n",
       "       [ 4702.25734151],\n",
       "       [ 4701.51413151],\n",
       "       [ 4701.26213568],\n",
       "       [ 4701.18184546],\n",
       "       [ 4701.15775234],\n",
       "       [ 4701.15092759],\n",
       "       [ 4701.14909848],\n",
       "       [ 4701.14863363],\n",
       "       [ 4701.14852136],\n",
       "       [ 4701.14849554],\n",
       "       [ 4701.14848988],\n",
       "       [ 4701.14848869],\n",
       "       [ 4701.14848845],\n",
       "       [ 4701.1484884 ],\n",
       "       [ 4701.1484884 ],\n",
       "       [ 4701.14848839],\n",
       "       [ 4701.14848839],\n",
       "       [ 4701.14848839],\n",
       "       [ 4701.14848839],\n",
       "       [ 4701.14848839],\n",
       "       [ 4701.14848839],\n",
       "       [ 4701.14848839],\n",
       "       [ 4701.14848839],\n",
       "       [ 4701.14848839],\n",
       "       [ 4701.14848839],\n",
       "       [ 4701.14848839],\n",
       "       [ 4701.14848839],\n",
       "       [ 4701.14848839],\n",
       "       [ 4701.14848839],\n",
       "       [ 4701.14848839],\n",
       "       [ 4701.14848839],\n",
       "       [ 4701.14848839],\n",
       "       [ 3659.41953062],\n",
       "       [ 3520.18533309],\n",
       "       [ 3326.16572891],\n",
       "       [ 3177.95015427],\n",
       "       [ 3086.73217206],\n",
       "       [ 3037.21360699],\n",
       "       [ 3012.76274391],\n",
       "       [ 3001.64669709],\n",
       "       [ 2996.96597811],\n",
       "       [ 2995.1334664 ],\n",
       "       [ 2994.46431432],\n",
       "       [ 2994.23574316],\n",
       "       [ 2994.16250022],\n",
       "       [ 2994.14042282],\n",
       "       [ 2994.13414641],\n",
       "       [ 2994.13245928],\n",
       "       [ 2994.13202945],\n",
       "       [ 2994.13192543],\n",
       "       [ 2994.13190146],\n",
       "       [ 2994.1318962 ],\n",
       "       [ 2994.13189509],\n",
       "       [ 2994.13189487],\n",
       "       [ 2994.13189483],\n",
       "       [ 2994.13189482],\n",
       "       [ 2994.13189482],\n",
       "       [ 2994.13189482],\n",
       "       [ 2994.13189482],\n",
       "       [ 2994.13189482],\n",
       "       [ 2994.13189482],\n",
       "       [ 2994.13189482],\n",
       "       [ 2994.13189482],\n",
       "       [ 2994.13189482],\n",
       "       [ 2994.13189482],\n",
       "       [ 2994.13189482],\n",
       "       [ 2994.13189482],\n",
       "       [ 2994.13189482],\n",
       "       [ 2994.13189482],\n",
       "       [ 2994.13189482],\n",
       "       [ 2994.13189482],\n",
       "       [ 2994.13189482],\n",
       "       [ 2994.13189482],\n",
       "       [ 2188.92869209],\n",
       "       [ 2130.87282851],\n",
       "       [ 2029.09602763],\n",
       "       [ 1939.47614241],\n",
       "       [ 1878.72240032],\n",
       "       [ 1843.4996841 ],\n",
       "       [ 1825.30726916],\n",
       "       [ 1816.77370201],\n",
       "       [ 1813.09958726],\n",
       "       [ 1811.63763153],\n",
       "       [ 1811.09726661],\n",
       "       [ 1810.91095994],\n",
       "       [ 1810.85082277],\n",
       "       [ 1810.83258973],\n",
       "       [ 1810.82738158],\n",
       "       [ 1810.8259761 ],\n",
       "       [ 1810.82561685],\n",
       "       [ 1810.82552967],\n",
       "       [ 1810.82550954],\n",
       "       [ 1810.8255051 ],\n",
       "       [ 1810.82550417],\n",
       "       [ 1810.82550398],\n",
       "       [ 1810.82550395],\n",
       "       [ 1810.82550394],\n",
       "       [ 1810.82550394],\n",
       "       [ 1810.82550394],\n",
       "       [ 1810.82550394],\n",
       "       [ 1810.82550394],\n",
       "       [ 1810.82550394],\n",
       "       [ 1810.82550394],\n",
       "       [ 1810.82550394],\n",
       "       [ 1810.82550394],\n",
       "       [ 1810.82550394],\n",
       "       [ 1810.82550394],\n",
       "       [ 1810.82550394],\n",
       "       [ 1810.82550394],\n",
       "       [ 1810.82550394],\n",
       "       [ 1810.82550394],\n",
       "       [ 1810.82550394],\n",
       "       [ 1810.82550394],\n",
       "       [ 1810.82550394],\n",
       "       [ 1260.62763645],\n",
       "       [ 1234.63150712],\n",
       "       [ 1181.94159124],\n",
       "       [ 1130.57243018],\n",
       "       [ 1093.00107651],\n",
       "       [ 1069.96440141],\n",
       "       [ 1057.56632811],\n",
       "       [ 1051.5710555 ],\n",
       "       [ 1048.93029337],\n",
       "       [ 1047.8611279 ],\n",
       "       [ 1047.46059999],\n",
       "       [ 1047.32103649],\n",
       "       [ 1047.27560365],\n",
       "       [ 1047.26173346],\n",
       "       [ 1047.2577489 ],\n",
       "       [ 1047.2566685 ],\n",
       "       [ 1047.25639123],\n",
       "       [ 1047.25632371],\n",
       "       [ 1047.25630807],\n",
       "       [ 1047.25630461],\n",
       "       [ 1047.25630389],\n",
       "       [ 1047.25630374],\n",
       "       [ 1047.25630371],\n",
       "       [ 1047.25630371],\n",
       "       [ 1047.2563037 ],\n",
       "       [ 1047.2563037 ],\n",
       "       [ 1047.2563037 ],\n",
       "       [ 1047.2563037 ],\n",
       "       [ 1047.2563037 ],\n",
       "       [ 1047.2563037 ],\n",
       "       [ 1047.2563037 ],\n",
       "       [ 1047.2563037 ],\n",
       "       [ 1047.2563037 ],\n",
       "       [ 1047.2563037 ],\n",
       "       [ 1047.2563037 ],\n",
       "       [ 1047.2563037 ],\n",
       "       [ 1047.2563037 ],\n",
       "       [ 1047.2563037 ],\n",
       "       [ 1047.2563037 ],\n",
       "       [ 1047.2563037 ],\n",
       "       [ 1047.2563037 ],\n",
       "       [  714.84403969],\n",
       "       [  702.4738607 ],\n",
       "       [  674.99457346],\n",
       "       [  646.12871423],\n",
       "       [  623.69489725],\n",
       "       [  609.2653338 ],\n",
       "       [  601.20494328],\n",
       "       [  597.19292942],\n",
       "       [  595.38543692],\n",
       "       [  594.64052555],\n",
       "       [  594.35749375],\n",
       "       [  594.25774048],\n",
       "       [  594.22496356],\n",
       "       [  594.21487983],\n",
       "       [  594.21196435],\n",
       "       [  594.21116951],\n",
       "       [  594.21096458],\n",
       "       [  594.21091448],\n",
       "       [  594.21090284],\n",
       "       [  594.21090026],\n",
       "       [  594.21089971],\n",
       "       [  594.2108996 ],\n",
       "       [  594.21089958],\n",
       "       [  594.21089958],\n",
       "       [  594.21089958],\n",
       "       [  594.21089958],\n",
       "       [  594.21089958],\n",
       "       [  594.21089958],\n",
       "       [  594.21089958],\n",
       "       [  594.21089958],\n",
       "       [  594.21089958],\n",
       "       [  594.21089958],\n",
       "       [  594.21089958],\n",
       "       [  594.21089958],\n",
       "       [  594.21089958],\n",
       "       [  594.21089958],\n",
       "       [  594.21089958],\n",
       "       [  594.21089958],\n",
       "       [  594.21089958],\n",
       "       [  594.21089958],\n",
       "       [  594.21089958],\n",
       "       [  435.00336401],\n",
       "       [  428.35410495],\n",
       "       [  412.68647661],\n",
       "       [  395.29436434],\n",
       "       [  381.11280052],\n",
       "       [  371.62277225],\n",
       "       [  366.15003226],\n",
       "       [  363.35590947],\n",
       "       [  362.07133095],\n",
       "       [  361.53325388],\n",
       "       [  361.32610768],\n",
       "       [  361.25231377],\n",
       "       [  361.2278516 ],\n",
       "       [  361.22027037],\n",
       "       [  361.21806485],\n",
       "       [  361.2174604 ],\n",
       "       [  361.21730386],\n",
       "       [  361.21726544],\n",
       "       [  361.21725648],\n",
       "       [  361.21725449],\n",
       "       [  361.21725406],\n",
       "       [  361.21725398],\n",
       "       [  361.21725396],\n",
       "       [  361.21725396],\n",
       "       [  361.21725396],\n",
       "       [  361.21725396],\n",
       "       [  361.21725396],\n",
       "       [  361.21725396],\n",
       "       [  361.21725396],\n",
       "       [  361.21725396],\n",
       "       [  361.21725396],\n",
       "       [  361.21725396],\n",
       "       [  361.21725396],\n",
       "       [  361.21725396],\n",
       "       [  361.21725396],\n",
       "       [  361.21725396],\n",
       "       [  361.21725396],\n",
       "       [  361.21725396],\n",
       "       [  361.21725396],\n",
       "       [  361.21725396],\n",
       "       [  361.21725396],\n",
       "       [  349.72268217],\n",
       "       [  344.6591345 ],\n",
       "       [  332.43364128],\n",
       "       [  318.52560903],\n",
       "       [  306.9346905 ],\n",
       "       [  299.03599966],\n",
       "       [  294.41350616],\n",
       "       [  292.02556044],\n",
       "       [  290.91735045],\n",
       "       [  290.44963267],\n",
       "       [  290.26847012],\n",
       "       [  290.20361005],\n",
       "       [  290.18202081],\n",
       "       [  290.175307  ],\n",
       "       [  290.17334818],\n",
       "       [  290.17281004],\n",
       "       [  290.17267038],\n",
       "       [  290.17263603],\n",
       "       [  290.17262801],\n",
       "       [  290.17262623],\n",
       "       [  290.17262585],\n",
       "       [  290.17262577],\n",
       "       [  290.17262576],\n",
       "       [  290.17262575],\n",
       "       [  290.17262575],\n",
       "       [  290.17262575],\n",
       "       [  290.17262575],\n",
       "       [  290.17262575],\n",
       "       [  290.17262575],\n",
       "       [  290.17262575],\n",
       "       [  290.17262575],\n",
       "       [  290.17262575],\n",
       "       [  290.17262575],\n",
       "       [  290.17262575],\n",
       "       [  290.17262575],\n",
       "       [  290.17262575],\n",
       "       [  290.17262575],\n",
       "       [  290.17262575],\n",
       "       [  290.17262575],\n",
       "       [  290.17262575],\n",
       "       [  290.17262575],\n",
       "       [ 1404.69098272],\n",
       "       [ 1774.57765277],\n",
       "       [ 1855.23325457],\n",
       "       [ 1860.63714078],\n",
       "       [ 1855.70105785],\n",
       "       [ 1851.8546423 ],\n",
       "       [ 1849.81318792],\n",
       "       [ 1848.87473112],\n",
       "       [ 1848.48097853],\n",
       "       [ 1848.32767146],\n",
       "       [ 1848.27190661],\n",
       "       [ 1848.25288549],\n",
       "       [ 1848.24678468],\n",
       "       [ 1848.2449402 ],\n",
       "       [ 1848.24441334],\n",
       "       [ 1848.24427084],\n",
       "       [ 1848.24423427],\n",
       "       [ 1848.24422534],\n",
       "       [ 1848.24422326],\n",
       "       [ 1848.2442228 ],\n",
       "       [ 1848.24422271],\n",
       "       [ 1848.24422269],\n",
       "       [ 1848.24422268],\n",
       "       [ 1848.24422268],\n",
       "       [ 1848.24422268],\n",
       "       [ 1848.24422268],\n",
       "       [ 1848.24422268],\n",
       "       [ 1848.24422268],\n",
       "       [ 1848.24422268],\n",
       "       [ 1848.24422268],\n",
       "       [ 1848.24422268],\n",
       "       [ 1848.24422268],\n",
       "       [ 1848.24422268],\n",
       "       [ 1848.24422268],\n",
       "       [ 1848.24422268],\n",
       "       [ 1848.24422268],\n",
       "       [ 1848.24422268],\n",
       "       [ 1848.24422268],\n",
       "       [ 1848.24422268],\n",
       "       [ 1848.24422268],\n",
       "       [ 1848.24422268]])"
      ]
     },
     "execution_count": 54,
     "metadata": {},
     "output_type": "execute_result"
    }
   ],
   "source": [
    "T[:,:,3600]"
   ]
  },
  {
   "cell_type": "code",
   "execution_count": 55,
   "metadata": {},
   "outputs": [],
   "source": [
    "X = 1\n",
    "Y = .2\n",
    "k = 1.3\n",
    "ro = 2400\n",
    "cp = 700\n",
    "h = 1000\n",
    "T_init = 20\n",
    "step_size = .1\n",
    "time_step = .001\n",
    "t_end = 3600"
   ]
  },
  {
   "cell_type": "code",
   "execution_count": 56,
   "metadata": {},
   "outputs": [
    {
     "data": {
      "text/plain": [
       "0.09999999999999998"
      ]
     },
     "execution_count": 56,
     "metadata": {},
     "output_type": "execute_result"
    }
   ],
   "source": [
    "time_step / step_size**2"
   ]
  },
  {
   "cell_type": "code",
   "execution_count": 57,
   "metadata": {},
   "outputs": [],
   "source": [
    "dx = X/(nx-1);\n",
    "dy = Y/(ny-1);\n",
    "\n",
    "dt = 1;"
   ]
  },
  {
   "cell_type": "code",
   "execution_count": 58,
   "metadata": {},
   "outputs": [
    {
     "data": {
      "text/plain": [
       "0.010101010101010102"
      ]
     },
     "execution_count": 58,
     "metadata": {},
     "output_type": "execute_result"
    }
   ],
   "source": [
    "dx"
   ]
  },
  {
   "cell_type": "code",
   "execution_count": 59,
   "metadata": {},
   "outputs": [
    {
     "data": {
      "text/plain": [
       "1"
      ]
     },
     "execution_count": 59,
     "metadata": {},
     "output_type": "execute_result"
    }
   ],
   "source": [
    "dt"
   ]
  },
  {
   "cell_type": "code",
   "execution_count": 60,
   "metadata": {},
   "outputs": [
    {
     "data": {
      "text/plain": [
       "0.010526315789473684"
      ]
     },
     "execution_count": 60,
     "metadata": {},
     "output_type": "execute_result"
    }
   ],
   "source": [
    "dy"
   ]
  },
  {
   "cell_type": "code",
   "execution_count": 61,
   "metadata": {},
   "outputs": [
    {
     "data": {
      "text/plain": [
       "9800.999999999998"
      ]
     },
     "execution_count": 61,
     "metadata": {},
     "output_type": "execute_result"
    }
   ],
   "source": [
    "dt/dx**2"
   ]
  },
  {
   "cell_type": "code",
   "execution_count": 74,
   "metadata": {},
   "outputs": [
    {
     "data": {
      "text/plain": [
       "248"
      ]
     },
     "execution_count": 74,
     "metadata": {},
     "output_type": "execute_result"
    }
   ],
   "source": [
    "del T\n",
    "import gc\n",
    "gc.collect()"
   ]
  },
  {
   "cell_type": "code",
   "execution_count": null,
   "metadata": {},
   "outputs": [],
   "source": []
  }
 ],
 "metadata": {
  "kernelspec": {
   "display_name": "Python 3",
   "language": "python",
   "name": "python3"
  },
  "language_info": {
   "codemirror_mode": {
    "name": "ipython",
    "version": 3
   },
   "file_extension": ".py",
   "mimetype": "text/x-python",
   "name": "python",
   "nbconvert_exporter": "python",
   "pygments_lexer": "ipython3",
   "version": "3.6.6"
  }
 },
 "nbformat": 4,
 "nbformat_minor": 2
}
