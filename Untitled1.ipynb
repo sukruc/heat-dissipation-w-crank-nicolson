{
 "cells": [
  {
   "cell_type": "code",
   "execution_count": 1,
   "metadata": {},
   "outputs": [],
   "source": [
    "nx = 41\n",
    "ny = 11\n"
   ]
  },
  {
   "cell_type": "code",
   "execution_count": 39,
   "metadata": {},
   "outputs": [
    {
     "name": "stdout",
     "output_type": "stream",
     "text": [
      "42 83\n",
      "83 124\n",
      "124 165\n",
      "165 206\n",
      "206 247\n",
      "247 288\n",
      "288 329\n",
      "329 370\n",
      "370 411\n"
     ]
    }
   ],
   "source": [
    "for i in range(2,ny):\n",
    "  for j in [1]:\n",
    "#       print ((i-1)*nx+j,(i-1)*nx+j) \n",
    "#       print ((i-1)*nx+j,(i-1)*nx+j+1)\n",
    "#       print ((i-1)*nx+j,(i-2)*nx+j) \n",
    "      print ((i-1)*nx+j,i*nx+j)\n",
    "\n",
    "#       print ((i-1)*nx+j,(i-1)*nx+j) \n",
    "#       print ((i-1)*nx+j,(i-1)*nx+j+1)\n",
    "#       print ((i-1)*nx+j,(i-2)*nx+j)\n",
    "#       print ((i-1)*nx+j,i*nx+j) "
   ]
  },
  {
   "cell_type": "code",
   "execution_count": 71,
   "metadata": {},
   "outputs": [],
   "source": [
    "for i in range(2,ny):\n",
    "    for j in [1]:\n",
    "        A1 [(i-1)*nx+j-1,(i-1)*nx+j-1] = tx+ty+1;\n",
    "        A1 [(i-1)*nx+j-1,(i-1)*nx+j-1+1] = -tx;\n",
    "        A1 [(i-1)*nx+j-1,(i-2)*nx+j-1] = -ty/2;\n",
    "        A1 [(i-1)*nx+j-1,i*nx+j-1] = -ty/2;\n",
    "        \n",
    "        A2 [(i-1)*nx+j-1,(i-1)*nx+j-1] = 1-tx-ty;\n",
    "        A2 [(i-1)*nx+j-1,(i-1)*nx+j-1+1] = tx;\n",
    "        A2 [(i-1)*nx+j-1,(i-2)*nx+j-1] = ty/2;\n",
    "        A2 [(i-1)*nx+j-1,i*nx+j-1] = ty/2;"
   ]
  },
  {
   "cell_type": "code",
   "execution_count": 72,
   "metadata": {},
   "outputs": [],
   "source": [
    "import numpy as np\n",
    "import matplotlib.pyplot as plt\n",
    "import pickle\n",
    "\n",
    "MAT_FILENAME = 'T_step02s.pk'\n",
    "\n",
    "X = 1\n",
    "Y = .2\n",
    "k = 1.3\n",
    "ro = 2400\n",
    "cp = 700\n",
    "alfa = k / (ro * cp)\n",
    "\n",
    "nx = 41\n",
    "ny = 11\n",
    "\n",
    "dx = X / (nx - 1)\n",
    "dy = Y / (ny - 1)\n",
    "\n",
    "dt = 1\n",
    "tson = 3600\n",
    "tilk = 0\n",
    "time_step = tson / dt + 1\n",
    "\n",
    "tx = alfa * dt / dx**2\n",
    "ty = alfa * dt / dy**2\n",
    "h = 1000\n",
    "Ts = 1223\n",
    "\n",
    "A1 = np.zeros((nx*ny, nx*ny))\n",
    "A2 = np.zeros((nx*ny, nx*ny))\n",
    "G = np.zeros((nx*ny, 1))\n",
    "T = 20 * np.ones((nx*ny, 1, int(time_step)))\n",
    "\n",
    "for i in range(1, nx+1 ):\n",
    "    G[i,0] = tx * h * dx * Ts / k\n",
    "\n",
    "for i in [1]:\n",
    "    for j in [1]:\n",
    "        A1 [(i-1)*nx+j-1,(i-1)*nx+j-1] = 1+tx+ty+tx*h*dx/2/k;\n",
    "        A1 [(i-1)*nx+j-1,(i-1)*nx+j-1+1] = -tx;\n",
    "        A1 [(i-1)*nx+j-1,i*nx+j-1] = -ty;\n",
    "\n",
    "        A2 [(i-1)*nx+j-1,(i-1)*nx+j-1] = 1-tx-ty-tx*h*dx/2/k;\n",
    "        A2 [(i-1)*nx+j-1,(i-1)*nx+j-1+1] = tx;\n",
    "        A2 [(i-1)*nx+j-1,i*nx+j-1] = ty;\n",
    "    for j in range(2,nx):\n",
    "        A1 [(i-1)*nx+j-1,(i-1)*nx+j-1] = 1+tx+ty+tx*h*dx/2/k;\n",
    "        A1 [(i-1)*nx+j-1,(i-1)*nx+j-1-1] = -tx/2;\n",
    "        A1 [(i-1)*nx+j-1,(i-1)*nx+j-1+1] = -tx/2;\n",
    "        A1 [(i-1)*nx+j-1,i*nx+j-1] = -ty;\n",
    "\n",
    "        A2 [(i-1)*nx+j-1,(i-1)*nx+j-1] = 1-tx-ty-tx*h*dx/2/k;\n",
    "        A2 [(i-1)*nx+j-1,(i-1)*nx+j-1-1] = tx/2;\n",
    "        A2 [(i-1)*nx+j-1,(i-1)*nx+j-1+1] = tx/2;\n",
    "        A2 [(i-1)*nx+j-1,i*nx+j-1] = ty;\n",
    "    for j in [nx]:\n",
    "        A1 [(i-1)*nx+j-1,(i-1)*nx+j-1] = tx+ty+tx*h*dx/2/k+1;\n",
    "        A1 [(i-1)*nx+j-1,(i-1)*nx+j-1-1] = -tx;\n",
    "        A1 [(i-1)*nx+j-1,i*nx+j-1] = -ty;\n",
    "\n",
    "        A2 [(i-1)*nx+j-1,(i-1)*nx+j-1] = 1-tx-ty-tx*h*dx/2/k;\n",
    "        A2 [(i-1)*nx+j-1,(i-1)*nx+j-1-1] = tx;\n",
    "        A2 [(i-1)*nx+j-1,i*nx+j-1] = ty;\n",
    "\n",
    "for i in range(2,ny):\n",
    "    for j in [1]:\n",
    "        A1 [(i-1)*nx+j-1,(i-1)*nx+j-1] = tx+ty+1;\n",
    "        A1 [(i-1)*nx+j-1,(i-1)*nx+j-1+1] = -tx;\n",
    "        A1 [(i-1)*nx+j-1,(i-2)*nx+j-1] = -ty/2;\n",
    "        A1 [(i-1)*nx+j-1,i*nx+j-1] = -ty/2;\n",
    "\n",
    "        A2 [(i-1)*nx+j-1,(i-1)*nx+j-1] = 1-tx-ty;\n",
    "        A2 [(i-1)*nx+j-1,(i-1)*nx+j-1+1] = tx;\n",
    "        A2 [(i-1)*nx+j-1,(i-2)*nx+j-1] = ty/2;\n",
    "        A2 [(i-1)*nx+j-1,i*nx+j-1] = ty/2;\n",
    "    for j in range(2,nx):\n",
    "        A1 [(i-1)*nx+j-1,(i-1)*nx+j-1] = tx+ty+1;\n",
    "        A1 [(i-1)*nx+j-1,(i-1)*nx+j-1-1] = -tx/2;\n",
    "        A1 [(i-1)*nx+j-1,(i-1)*nx+j-1+1] = -tx/2;\n",
    "        A1 [(i-1)*nx+j-1,(i-2)*nx+j-1] = -ty/2;\n",
    "        A1 [(i-1)*nx+j-1,i*nx+j-1] = -ty/2;\n",
    "\n",
    "        A2 [(i-1)*nx+j-1,(i-1)*nx+j-1] = 1-tx-ty;\n",
    "        A2 [(i-1)*nx+j-1,(i-1)*nx+j-1-1] = tx/2;\n",
    "        A2 [(i-1)*nx+j-1,(i-1)*nx+j-1+1] = tx/2;\n",
    "        A2 [(i-1)*nx+j-1,(i-2)*nx+j-1] = ty/2;\n",
    "        A2 [(i-1)*nx+j-1,i*nx+j-1] = ty/2;\n",
    "    for j in [nx]:\n",
    "        A1 [(i-1)*nx+j-1,(i-1)*nx+j-1] = tx+ty+1;\n",
    "        A1 [(i-1)*nx+j-1,(i-1)*nx+j-1-1] = -tx;\n",
    "        A1 [(i-1)*nx+j-1,(i-2)*nx+j-1] = -ty/2;\n",
    "        A1 [(i-1)*nx+j-1,i*nx+j-1] = -ty/2;\n",
    "\n",
    "        A2 [(i-1)*nx+j-1,(i-1)*nx+j-1] = 1-tx-ty;\n",
    "        A2 [(i-1)*nx+j-1,(i-1)*nx+j-1-1] = tx;\n",
    "        A2 [(i-1)*nx+j-1,(i-2)*nx+j-1] = ty/2;\n",
    "        A2 [(i-1)*nx+j-1,i*nx+j-1] = ty/2;\n",
    "\n",
    "for i in [ny]:\n",
    "    for j in [1]:\n",
    "        A1 [(i-1)*nx+j-1,(i-1)*nx+j-1] = tx+ty+1;\n",
    "        A1 [(i-1)*nx+j-1,(i-1)*nx+j-1+1] = -tx;\n",
    "        A1 [(i-1)*nx+j-1,(i-2)*nx+j-1] = -ty;\n",
    "\n",
    "        A2 [(i-1)*nx+j-1,(i-1)*nx+j-1] = 1-tx-ty;\n",
    "        A2 [(i-1)*nx+j-1,(i-1)*nx+j-1+1] = tx;\n",
    "        A2 [(i-1)*nx+j-1,(i-2)*nx+j-1] = ty;\n",
    "\n",
    "    for j in range(2,nx):\n",
    "        A1 [(i-1)*nx+j-1,(i-1)*nx+j-1] = tx+ty+1;\n",
    "        A1 [(i-1)*nx+j-1,(i-1)*nx+j-1-1] = -tx/2;\n",
    "        A1 [(i-1)*nx+j-1,(i-1)*nx+j-1+1] = -tx/2;\n",
    "        A1 [(i-1)*nx+j-1,(i-2)*nx+j-1] = -ty;\n",
    "\n",
    "        A2 [(i-1)*nx+j-1,(i-1)*nx+j-1] = 1-tx-ty;\n",
    "        A2 [(i-1)*nx+j-1,(i-1)*nx+j-1-1] = tx/2;\n",
    "        A2 [(i-1)*nx+j-1,(i-1)*nx+j-1+1] = tx/2;\n",
    "        A2 [(i-1)*nx+j-1,(i-2)*nx+j-1] = ty;\n",
    "\n",
    "    for j in [nx]:\n",
    "        A1 [(i-1)*nx+j-1,(i-1)*nx+j-1] = tx+ty+1;\n",
    "        A1 [(i-1)*nx+j-1,(i-1)*nx+j-1-1] = -tx;\n",
    "        A1 [(i-1)*nx+j-1,(i-2)*nx+j-1] = -ty;\n",
    "\n",
    "        A2 [(i-1)*nx+j-1,(i-1)*nx+j-1] = 1-tx-ty;\n",
    "        A2 [(i-1)*nx+j-1,(i-1)*nx+j-1-1] = tx;\n",
    "        A2 [(i-1)*nx+j-1,(i-2)*nx+j-1] = ty;"
   ]
  },
  {
   "cell_type": "code",
   "execution_count": 65,
   "metadata": {},
   "outputs": [
    {
     "data": {
      "text/plain": [
       "451"
      ]
     },
     "execution_count": 65,
     "metadata": {},
     "output_type": "execute_result"
    }
   ],
   "source": [
    "(i-1)*nx+j"
   ]
  },
  {
   "cell_type": "code",
   "execution_count": 73,
   "metadata": {},
   "outputs": [
    {
     "data": {
      "text/plain": [
       "451.4880952380952"
      ]
     },
     "execution_count": 73,
     "metadata": {},
     "output_type": "execute_result"
    }
   ],
   "source": [
    "A1.sum()"
   ]
  },
  {
   "cell_type": "code",
   "execution_count": 74,
   "metadata": {},
   "outputs": [
    {
     "data": {
      "text/plain": [
       "450.5119047619048"
      ]
     },
     "execution_count": 74,
     "metadata": {},
     "output_type": "execute_result"
    }
   ],
   "source": [
    "A2.sum()"
   ]
  },
  {
   "cell_type": "code",
   "execution_count": null,
   "metadata": {},
   "outputs": [],
   "source": []
  }
 ],
 "metadata": {
  "kernelspec": {
   "display_name": "Python 3",
   "language": "python",
   "name": "python3"
  },
  "language_info": {
   "codemirror_mode": {
    "name": "ipython",
    "version": 3
   },
   "file_extension": ".py",
   "mimetype": "text/x-python",
   "name": "python",
   "nbconvert_exporter": "python",
   "pygments_lexer": "ipython3",
   "version": "3.6.6"
  }
 },
 "nbformat": 4,
 "nbformat_minor": 2
}
